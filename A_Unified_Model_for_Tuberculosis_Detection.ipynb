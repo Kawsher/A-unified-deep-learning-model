{
  "nbformat": 4,
  "nbformat_minor": 0,
  "metadata": {
    "accelerator": "GPU",
    "colab": {
      "name": "A_Unified_Model_for_Tuberculosis_Detection.ipynb",
      "provenance": [],
      "collapsed_sections": []
    },
    "kernelspec": {
      "display_name": "Python 3",
      "name": "python3"
    },
    "language_info": {
      "name": "python"
    }
  },
  "cells": [
    {
      "cell_type": "code",
      "metadata": {
        "id": "d3RT3ThXJeUS"
      },
      "source": [
        "import keras\n",
        "from keras.models import *\n",
        "from keras.layers import *\n",
        "from keras.optimizers import *\n",
        "from keras.preprocessing.image import ImageDataGenerator\n",
        "import tensorflow as tf\n",
        "import numpy as np\n",
        "from keras.models import Sequential\n",
        "from keras.layers import Dense\n",
        "from keras.layers import Dropout\n",
        "from keras.layers import Flatten\n",
        "from keras.constraints import maxnorm\n",
        "from keras.optimizers import SGD\n",
        "from keras.layers.convolutional import Conv2D\n",
        "from keras.layers.convolutional import MaxPooling2D\n",
        "from keras.utils import np_utils\n",
        "from sklearn.metrics import roc_curve\n",
        "from sklearn.metrics import roc_auc_score\n",
        "from sklearn.datasets import make_classification\n",
        "from sklearn.metrics import confusion_matrix, ConfusionMatrixDisplay"
      ],
      "execution_count": 45,
      "outputs": []
    },
    {
      "cell_type": "code",
      "metadata": {
        "colab": {
          "base_uri": "https://localhost:8080/"
        },
        "id": "kM4vhjUfJ2hu",
        "outputId": "de52e11f-5a7d-4dbb-af27-33ddbc1cb4fa"
      },
      "source": [
        "import cv2,os\n",
        "\n",
        "data_path='/content/drive/MyDrive/Data/TB_Data'\n",
        "categories=os.listdir(data_path)\n",
        "labels=[i for i in range(len(categories))]\n",
        "\n",
        "label_dict=dict(zip(categories,labels)) #empty dictionary\n",
        "\n",
        "print(label_dict)\n",
        "print(categories)\n",
        "print(labels)"
      ],
      "execution_count": 2,
      "outputs": [
        {
          "output_type": "stream",
          "text": [
            "{'Negative ': 0, 'Positive': 1}\n",
            "['Negative ', 'Positive']\n",
            "[0, 1]\n"
          ],
          "name": "stdout"
        }
      ]
    },
    {
      "cell_type": "code",
      "metadata": {
        "colab": {
          "background_save": true
        },
        "id": "GyeJ3ozuJFeH"
      },
      "source": [
        "img_size=224\n",
        "data=[]\n",
        "target=[]\n",
        "\n",
        "\n",
        "for category in categories:\n",
        "    folder_path=os.path.join(data_path,category)\n",
        "    img_names=os.listdir(folder_path)\n",
        "        \n",
        "    for img_name in img_names:\n",
        "        img_path=os.path.join(folder_path,img_name)\n",
        "        img=cv2.imread(img_path)\n",
        "\n",
        "        try:\n",
        "            gray=cv2.cvtColor(img,cv2.COLOR_BGR2GRAY)           \n",
        "            #Coverting the image into gray scale\n",
        "            resized=cv2.resize(gray,(img_size,img_size))\n",
        "            #resizing the gray scale into 224x224, since we need a fixed common size for all the images in the dataset\n",
        "            data.append(resized)\n",
        "            target.append(label_dict[category])\n",
        "            #appending the image and the label(categorized) into the list (dataset)\n",
        "\n",
        "        except Exception as e:\n",
        "            print('Exception:',e)\n",
        "            #if any exception rasied, the exception will be printed here. And pass to the next image"
      ],
      "execution_count": null,
      "outputs": []
    },
    {
      "cell_type": "code",
      "metadata": {
        "id": "wOan66snaKTC"
      },
      "source": [
        "import numpy as np\n",
        "\n",
        "data=np.array(data)/255.0\n",
        "data=np.reshape(data,(data.shape[0],img_size,img_size,1))\n",
        "target=np.array(target)\n",
        "\n",
        "from keras.utils import np_utils\n",
        "\n",
        "new_target=np_utils.to_categorical(target)"
      ],
      "execution_count": null,
      "outputs": []
    },
    {
      "cell_type": "code",
      "metadata": {
        "id": "BPfdEm-RrClr"
      },
      "source": [
        "np.save('Tuberculosisdata',data)\n",
        "np.save('Tuberculosis_new_target',new_target)\n",
        "np.save('Tuberculosistarget',target) "
      ],
      "execution_count": null,
      "outputs": []
    },
    {
      "cell_type": "code",
      "metadata": {
        "colab": {
          "base_uri": "https://localhost:8080/"
        },
        "id": "NHZuu98uJGGX",
        "outputId": "194f89af-1504-49e4-d714-54d9571fc1d1"
      },
      "source": [
        "from keras.models import Sequential,Model\n",
        "from keras.layers import Dense, Dropout, Flatten\n",
        "from keras.layers import Conv2D,Activation,MaxPooling2D\n",
        "from keras.utils import normalize\n",
        "from keras.layers import Concatenate\n",
        "from keras import Input\n",
        "from keras.callbacks import ModelCheckpoint\n",
        "\n",
        "input_shape=data.shape[1:] \n",
        "\n",
        "inp=Input(shape=input_shape)\n",
        "model = Sequential()\n",
        "model.add(keras.Input(shape=input_shape))\n",
        "model.add(Conv2D(256,3,padding='same',activation='relu',strides=2))\n",
        "model.add(MaxPooling2D(pool_size=(2,2)))\n",
        "\n",
        "model.add(Conv2D(128,(5,5)))\n",
        "model.add(Activation('relu'))\n",
        "model.add(MaxPooling2D(pool_size=(2,2)))\n",
        "\n",
        "model.add(Conv2D(256,(7,7)))\n",
        "model.add(Activation('relu'))\n",
        "model.add(MaxPooling2D(pool_size=(2,2)))\n",
        "\n",
        "model.add(Conv2D(128,(3,3)))\n",
        "model.add(Activation('relu'))\n",
        "model.add(MaxPooling2D(pool_size=(2,2)))\n",
        "\n",
        "model.add(Conv2D(64,(1,1)))\n",
        "model.add(Activation('relu'))\n",
        "model.add(MaxPooling2D(pool_size=(1,1)))\n",
        "\n",
        "model.add(Flatten())\n",
        "model.add(Dropout(0.5))\n",
        "model.add(Dense(256,activation='relu'))\n",
        "model.add(Dropout(0.5))\n",
        "model.add(Dense(128,activation='relu'))\n",
        "model.add(Dropout(0.5))\n",
        "model.add(Dense(1,input_dim=128,activation='sigmoid'))\n",
        "model.compile(loss='binary_crossentropy',optimizer='adam',metrics=['binary_accuracy'])\n",
        "\n",
        "model.summary()"
      ],
      "execution_count": null,
      "outputs": [
        {
          "output_type": "stream",
          "text": [
            "Model: \"sequential\"\n",
            "_________________________________________________________________\n",
            "Layer (type)                 Output Shape              Param #   \n",
            "=================================================================\n",
            "conv2d (Conv2D)              (None, 112, 112, 256)     2560      \n",
            "_________________________________________________________________\n",
            "max_pooling2d (MaxPooling2D) (None, 56, 56, 256)       0         \n",
            "_________________________________________________________________\n",
            "conv2d_1 (Conv2D)            (None, 52, 52, 128)       819328    \n",
            "_________________________________________________________________\n",
            "activation (Activation)      (None, 52, 52, 128)       0         \n",
            "_________________________________________________________________\n",
            "max_pooling2d_1 (MaxPooling2 (None, 26, 26, 128)       0         \n",
            "_________________________________________________________________\n",
            "conv2d_2 (Conv2D)            (None, 20, 20, 256)       1605888   \n",
            "_________________________________________________________________\n",
            "activation_1 (Activation)    (None, 20, 20, 256)       0         \n",
            "_________________________________________________________________\n",
            "max_pooling2d_2 (MaxPooling2 (None, 10, 10, 256)       0         \n",
            "_________________________________________________________________\n",
            "conv2d_3 (Conv2D)            (None, 8, 8, 128)         295040    \n",
            "_________________________________________________________________\n",
            "activation_2 (Activation)    (None, 8, 8, 128)         0         \n",
            "_________________________________________________________________\n",
            "max_pooling2d_3 (MaxPooling2 (None, 4, 4, 128)         0         \n",
            "_________________________________________________________________\n",
            "conv2d_4 (Conv2D)            (None, 4, 4, 64)          8256      \n",
            "_________________________________________________________________\n",
            "activation_3 (Activation)    (None, 4, 4, 64)          0         \n",
            "_________________________________________________________________\n",
            "max_pooling2d_4 (MaxPooling2 (None, 4, 4, 64)          0         \n",
            "_________________________________________________________________\n",
            "flatten (Flatten)            (None, 1024)              0         \n",
            "_________________________________________________________________\n",
            "dropout (Dropout)            (None, 1024)              0         \n",
            "_________________________________________________________________\n",
            "dense (Dense)                (None, 256)               262400    \n",
            "_________________________________________________________________\n",
            "dropout_1 (Dropout)          (None, 256)               0         \n",
            "_________________________________________________________________\n",
            "dense_1 (Dense)              (None, 128)               32896     \n",
            "_________________________________________________________________\n",
            "dropout_2 (Dropout)          (None, 128)               0         \n",
            "_________________________________________________________________\n",
            "dense_2 (Dense)              (None, 1)                 129       \n",
            "=================================================================\n",
            "Total params: 3,026,497\n",
            "Trainable params: 3,026,497\n",
            "Non-trainable params: 0\n",
            "_________________________________________________________________\n"
          ],
          "name": "stdout"
        }
      ]
    },
    {
      "cell_type": "code",
      "metadata": {
        "id": "Zwe9xatCox66"
      },
      "source": [
        "from sklearn.model_selection import train_test_split\n",
        "X_train, X_test, y_train, y_test=train_test_split(data,target,test_size=0.3)"
      ],
      "execution_count": 4,
      "outputs": []
    },
    {
      "cell_type": "code",
      "metadata": {
        "colab": {
          "base_uri": "https://localhost:8080/"
        },
        "id": "IwfpGVHiaYlE",
        "outputId": "55303eef-11e7-4029-bd9d-9074eb3e2d7d"
      },
      "source": [
        "checkpoint = ModelCheckpoint('model-{epoch:03d}.model',monitor='val_loss',verbose=0,save_best_only=True,mode='auto')\n",
        "history=model.fit(train_data,train_target,epochs=20,callbacks=[checkpoint],validation_split=0.1)"
      ],
      "execution_count": null,
      "outputs": [
        {
          "output_type": "stream",
          "text": [
            "Epoch 1/20\n",
            "138/138 [==============================] - 39s 51ms/step - loss: 0.6633 - binary_accuracy: 0.5635 - val_loss: 0.3905 - val_binary_accuracy: 0.8388\n",
            "INFO:tensorflow:Assets written to: model-001.model/assets\n",
            "Epoch 2/20\n",
            "138/138 [==============================] - 5s 40ms/step - loss: 0.4926 - binary_accuracy: 0.7780 - val_loss: 0.2885 - val_binary_accuracy: 0.9020\n",
            "INFO:tensorflow:Assets written to: model-002.model/assets\n",
            "Epoch 3/20\n",
            "138/138 [==============================] - 6s 40ms/step - loss: 0.3335 - binary_accuracy: 0.8612 - val_loss: 0.2471 - val_binary_accuracy: 0.9020\n",
            "INFO:tensorflow:Assets written to: model-003.model/assets\n",
            "Epoch 4/20\n",
            "138/138 [==============================] - 5s 40ms/step - loss: 0.2905 - binary_accuracy: 0.8817 - val_loss: 0.1940 - val_binary_accuracy: 0.9245\n",
            "INFO:tensorflow:Assets written to: model-004.model/assets\n",
            "Epoch 5/20\n",
            "138/138 [==============================] - 6s 40ms/step - loss: 0.2087 - binary_accuracy: 0.9209 - val_loss: 0.1622 - val_binary_accuracy: 0.9224\n",
            "INFO:tensorflow:Assets written to: model-005.model/assets\n",
            "Epoch 6/20\n",
            "138/138 [==============================] - 6s 40ms/step - loss: 0.1930 - binary_accuracy: 0.9268 - val_loss: 0.1184 - val_binary_accuracy: 0.9592\n",
            "INFO:tensorflow:Assets written to: model-006.model/assets\n",
            "Epoch 7/20\n",
            "138/138 [==============================] - 5s 40ms/step - loss: 0.1320 - binary_accuracy: 0.9521 - val_loss: 0.1485 - val_binary_accuracy: 0.9490\n",
            "Epoch 8/20\n",
            "138/138 [==============================] - 6s 40ms/step - loss: 0.1108 - binary_accuracy: 0.9608 - val_loss: 0.1041 - val_binary_accuracy: 0.9612\n",
            "INFO:tensorflow:Assets written to: model-008.model/assets\n",
            "Epoch 9/20\n",
            "138/138 [==============================] - 5s 40ms/step - loss: 0.0920 - binary_accuracy: 0.9691 - val_loss: 0.0844 - val_binary_accuracy: 0.9571\n",
            "INFO:tensorflow:Assets written to: model-009.model/assets\n",
            "Epoch 10/20\n",
            "138/138 [==============================] - 6s 40ms/step - loss: 0.0726 - binary_accuracy: 0.9721 - val_loss: 0.1023 - val_binary_accuracy: 0.9653\n",
            "Epoch 11/20\n",
            "138/138 [==============================] - 6s 40ms/step - loss: 0.0786 - binary_accuracy: 0.9700 - val_loss: 0.0748 - val_binary_accuracy: 0.9755\n",
            "INFO:tensorflow:Assets written to: model-011.model/assets\n",
            "Epoch 12/20\n",
            "138/138 [==============================] - 6s 40ms/step - loss: 0.0567 - binary_accuracy: 0.9754 - val_loss: 0.0642 - val_binary_accuracy: 0.9816\n",
            "INFO:tensorflow:Assets written to: model-012.model/assets\n",
            "Epoch 13/20\n",
            "138/138 [==============================] - 6s 40ms/step - loss: 0.0449 - binary_accuracy: 0.9822 - val_loss: 0.0650 - val_binary_accuracy: 0.9816\n",
            "Epoch 14/20\n",
            "138/138 [==============================] - 6s 40ms/step - loss: 0.0549 - binary_accuracy: 0.9808 - val_loss: 0.0418 - val_binary_accuracy: 0.9796\n",
            "INFO:tensorflow:Assets written to: model-014.model/assets\n",
            "Epoch 15/20\n",
            "138/138 [==============================] - 5s 40ms/step - loss: 0.0648 - binary_accuracy: 0.9761 - val_loss: 0.0836 - val_binary_accuracy: 0.9837\n",
            "Epoch 16/20\n",
            "138/138 [==============================] - 6s 40ms/step - loss: 0.0225 - binary_accuracy: 0.9931 - val_loss: 0.0901 - val_binary_accuracy: 0.9816\n",
            "Epoch 17/20\n",
            "138/138 [==============================] - 6s 40ms/step - loss: 0.0212 - binary_accuracy: 0.9945 - val_loss: 0.0507 - val_binary_accuracy: 0.9857\n",
            "Epoch 18/20\n",
            "138/138 [==============================] - 5s 40ms/step - loss: 0.0363 - binary_accuracy: 0.9897 - val_loss: 0.0783 - val_binary_accuracy: 0.9857\n",
            "Epoch 19/20\n",
            "138/138 [==============================] - 5s 40ms/step - loss: 0.0305 - binary_accuracy: 0.9906 - val_loss: 0.0568 - val_binary_accuracy: 0.9857\n",
            "Epoch 20/20\n",
            "138/138 [==============================] - 6s 40ms/step - loss: 0.0251 - binary_accuracy: 0.9912 - val_loss: 0.0200 - val_binary_accuracy: 0.9918\n",
            "INFO:tensorflow:Assets written to: model-020.model/assets\n"
          ],
          "name": "stdout"
        }
      ]
    },
    {
      "cell_type": "code",
      "metadata": {
        "colab": {
          "base_uri": "https://localhost:8080/"
        },
        "id": "dD3RWdQYabL2",
        "outputId": "337e5488-d7b1-44ff-9066-d1f5bc8ca287"
      },
      "source": [
        "print(model.evaluate(X_test,y_test))"
      ],
      "execution_count": 6,
      "outputs": [
        {
          "output_type": "stream",
          "text": [
            "66/66 [==============================] - 33s 40ms/step - loss: 0.0218 - binary_accuracy: 0.9938\n",
            "[0.021828481927514076, 0.9938095211982727]\n"
          ],
          "name": "stdout"
        }
      ]
    },
    {
      "cell_type": "code",
      "metadata": {
        "id": "8RzaN595_0n9"
      },
      "source": [
        "model.save('tubercolusis_model.h5')"
      ],
      "execution_count": null,
      "outputs": []
    },
    {
      "cell_type": "code",
      "metadata": {
        "colab": {
          "base_uri": "https://localhost:8080/",
          "height": 279
        },
        "id": "qMHRuuqTUvGJ",
        "outputId": "edbcc17e-7b20-4489-b3da-4ea4296a6ecc"
      },
      "source": [
        "from matplotlib import pyplot as plt\n",
        "\n",
        "plt.plot(history.history['loss'],'r',label='training loss')\n",
        "plt.plot(history.history['val_loss'],label='validation loss')\n",
        "plt.xlabel('# epochs')\n",
        "plt.ylabel('loss')\n",
        "plt.legend()\n",
        "plt.show()"
      ],
      "execution_count": null,
      "outputs": [
        {
          "output_type": "display_data",
          "data": {
            "image/png": "[encoded data removed]",
            "text/plain": [
              "<Figure size 432x288 with 1 Axes>"
            ]
          },
          "metadata": {
            "tags": []
          }
        }
      ]
    },
    {
      "cell_type": "code",
      "metadata": {
        "colab": {
          "base_uri": "https://localhost:8080/",
          "height": 279
        },
        "id": "EMgNncABWA9z",
        "outputId": "c492cdbf-cd2c-40f6-e4ac-877a31223939"
      },
      "source": [
        "plt.plot(history.history['binary_accuracy'],'r',label='training accuracy')\n",
        "plt.plot(history.history['val_binary_accuracy'],label='validation accuracy')\n",
        "plt.xlabel('# epochs')\n",
        "plt.ylabel('loss')\n",
        "plt.legend()\n",
        "plt.show()"
      ],
      "execution_count": null,
      "outputs": [
        {
          "output_type": "display_data",
          "data": {
            "image/png": "[encoded data removed]",
            "text/plain": [
              "<Figure size 432x288 with 1 Axes>"
            ]
          },
          "metadata": {
            "tags": []
          }
        }
      ]
    },
    {
      "cell_type": "code",
      "metadata": {
        "id": "SbZVgOTH8xEt"
      },
      "source": [
        "from tensorflow import keras\n",
        "model = keras.models.load_model('/content/drive/MyDrive/Deep_learning/tubercolusis_model.h5')"
      ],
      "execution_count": 5,
      "outputs": []
    },
    {
      "cell_type": "code",
      "metadata": {
        "colab": {
          "base_uri": "https://localhost:8080/"
        },
        "id": "GXYazSZJgbuQ",
        "outputId": "691cc44a-ab5a-4461-c952-c9a73f007128"
      },
      "source": [
        "import numpy as np\n",
        "from keras.preprocessing import image\n",
        "\n",
        "images = image.load_img(\"/content/drive/MyDrive/Data/TB_Data/Negative /Normal-1003.png\", target_size=(224,224))    \n",
        "x = image.img_to_array(images)\n",
        "x = tf.image.rgb_to_grayscale(x)\n",
        "x = np.expand_dims(x, axis=0)\n",
        "x = x/255.0\n",
        "\n",
        "p=model.predict(x)\n",
        "if p<0.3:\n",
        "  print(\"Negative\")\n",
        "else:\n",
        "  print(\"Positive\")"
      ],
      "execution_count": 7,
      "outputs": [
        {
          "output_type": "stream",
          "text": [
            "Negative\n"
          ],
          "name": "stdout"
        }
      ]
    },
    {
      "cell_type": "code",
      "metadata": {
        "colab": {
          "base_uri": "https://localhost:8080/"
        },
        "id": "CDCbDB6OiXwO",
        "outputId": "587c181b-f352-4c1f-8367-d20b40d20979"
      },
      "source": [
        "import numpy as np\n",
        "from keras.preprocessing import image\n",
        "\n",
        "images = image.load_img(\"/content/drive/MyDrive/Data/TB_Data/Positive/Tuberculosis-1013.png\", target_size=(224,224))    \n",
        "x = image.img_to_array(images)\n",
        "x = tf.image.rgb_to_grayscale(x)\n",
        "x = np.expand_dims(x, axis=0)\n",
        "x = x/255.0\n",
        "\n",
        "p=model.predict(x)\n",
        "if p<0.3:\n",
        "  print(\"Negative\")\n",
        "else:\n",
        "  print(\"Positive\")"
      ],
      "execution_count": 8,
      "outputs": [
        {
          "output_type": "stream",
          "text": [
            "Positive\n"
          ],
          "name": "stdout"
        }
      ]
    },
    {
      "cell_type": "code",
      "metadata": {
        "colab": {
          "base_uri": "https://localhost:8080/"
        },
        "id": "xTl_k354-Avg",
        "outputId": "c7a51069-c147-42b4-e372-e2c5c73a0327"
      },
      "source": [
        "probs = model.predict_proba(X_test)"
      ],
      "execution_count": 46,
      "outputs": [
        {
          "output_type": "stream",
          "text": [
            "/usr/local/lib/python3.7/dist-packages/tensorflow/python/keras/engine/sequential.py:430: UserWarning: `model.predict_proba()` is deprecated and will be removed after 2021-01-01. Please use `model.predict()` instead.\n",
            "  warnings.warn('`model.predict_proba()` is deprecated and '\n"
          ],
          "name": "stderr"
        }
      ]
    },
    {
      "cell_type": "code",
      "metadata": {
        "colab": {
          "base_uri": "https://localhost:8080/"
        },
        "id": "v_07Qo8PAPpi",
        "outputId": "7a1c158f-9a0c-483e-a72c-cf55a86cbbbb"
      },
      "source": [
        "auc = roc_auc_score(y_test, probs)\n",
        "print('AUC: %.2f' % auc)"
      ],
      "execution_count": 47,
      "outputs": [
        {
          "output_type": "stream",
          "text": [
            "AUC: 1.00\n"
          ],
          "name": "stdout"
        }
      ]
    },
    {
      "cell_type": "code",
      "metadata": {
        "id": "jCDTxtDTApH6"
      },
      "source": [
        "mk = []\n",
        "for x in probs:\n",
        "  if x > 0.3:\n",
        "    mk.append(1)\n",
        "  else:\n",
        "    mk.append(0)"
      ],
      "execution_count": 48,
      "outputs": []
    },
    {
      "cell_type": "code",
      "metadata": {
        "id": "33dE1zbyLWYw"
      },
      "source": [
        "def get_preds(threshold, probabilities):\n",
        "    return [1 if prob > threshold else 0 for prob in probabilities]"
      ],
      "execution_count": 49,
      "outputs": []
    },
    {
      "cell_type": "code",
      "metadata": {
        "id": "YoQCIl_SBIEc"
      },
      "source": [
        "roc_values = []\n",
        "for thresh in np.linspace(0, 1, 100):\n",
        "    preds = get_preds(thresh, probs)\n",
        "    tn, fp, fn, tp = confusion_matrix(y_test, preds).ravel()\n",
        "    tpr = tp/(tp+fn)\n",
        "    fpr = fp/(fp+tn)\n",
        "    roc_values.append([tpr, fpr])\n",
        "tpr_values, fpr_values = zip(*roc_values)"
      ],
      "execution_count": 50,
      "outputs": []
    },
    {
      "cell_type": "code",
      "metadata": {
        "colab": {
          "base_uri": "https://localhost:8080/",
          "height": 467
        },
        "id": "HAEqNNUDBPCN",
        "outputId": "b7ff208b-b2b8-4a9a-897a-8c107ca1b13d"
      },
      "source": [
        "fig, ax = plt.subplots(figsize=(10,7))\n",
        "ax.plot(fpr_values, tpr_values)\n",
        "ax.plot(np.linspace(0, 1, 100),\n",
        "         np.linspace(0, 1, 100),\n",
        "         label='baseline',\n",
        "         linestyle='--')\n",
        "plt.title('(ROC) Curve for Covid-19 Dataset', fontsize=18)\n",
        "plt.ylabel('True Positive Rate', fontsize=16)\n",
        "plt.xlabel('False Positive Rate', fontsize=16)\n",
        "plt.legend(fontsize=12);"
      ],
      "execution_count": 51,
      "outputs": [
        {
          "output_type": "display_data",
          "data": {
            "image/png": "[encoded data removed]",
            "text/plain": [
              "<Figure size 720x504 with 1 Axes>"
            ]
          },
          "metadata": {
            "tags": [],
            "needs_background": "light"
          }
        }
      ]
    }
  ]
}