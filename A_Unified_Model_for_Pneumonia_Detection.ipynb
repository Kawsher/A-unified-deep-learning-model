{
  "nbformat": 4,
  "nbformat_minor": 0,
  "metadata": {
    "accelerator": "GPU",
    "colab": {
      "name": "A_Unified_Model_for_Pneumonia_Detection.ipynb",
      "provenance": [],
      "collapsed_sections": []
    },
    "kernelspec": {
      "display_name": "Python 3",
      "name": "python3"
    },
    "language_info": {
      "name": "python"
    }
  },
  "cells": [
    {
      "cell_type": "code",
      "metadata": {
        "id": "d3RT3ThXJeUS"
      },
      "source": [
        "import keras\n",
        "from keras.models import *\n",
        "from keras.layers import *\n",
        "from keras.optimizers import *\n",
        "from keras.preprocessing.image import ImageDataGenerator\n",
        "import tensorflow as tf\n",
        "import numpy as np\n",
        "from keras.models import Sequential\n",
        "from keras.layers import Dense\n",
        "from keras.layers import Dropout\n",
        "from keras.layers import Flatten\n",
        "from keras.constraints import maxnorm\n",
        "from keras.optimizers import SGD\n",
        "from keras.layers.convolutional import Conv2D\n",
        "from keras.layers.convolutional import MaxPooling2D\n",
        "from keras.utils import np_utils"
      ],
      "execution_count": null,
      "outputs": []
    },
    {
      "cell_type": "code",
      "metadata": {
        "colab": {
          "base_uri": "https://localhost:8080/"
        },
        "id": "kM4vhjUfJ2hu",
        "outputId": "374d5840-76db-4595-f68c-f0de32d55ea7"
      },
      "source": [
        "import cv2,os\n",
        "\n",
        "data_path='/content/drive/MyDrive/Data/pneumonia/chest_xray/train'\n",
        "categories=os.listdir(data_path)\n",
        "labels=[i for i in range(len(categories))]\n",
        "\n",
        "label_dict=dict(zip(categories,labels)) #empty dictionary\n",
        "\n",
        "print(label_dict)\n",
        "print(categories)\n",
        "print(labels)"
      ],
      "execution_count": null,
      "outputs": [
        {
          "output_type": "stream",
          "text": [
            "{'NORMAL': 0, 'PNEUMONIA': 1}\n",
            "['NORMAL', 'PNEUMONIA']\n",
            "[0, 1]\n"
          ],
          "name": "stdout"
        }
      ]
    },
    {
      "cell_type": "code",
      "metadata": {
        "id": "GyeJ3ozuJFeH"
      },
      "source": [
        "img_size=224\n",
        "data=[]\n",
        "target=[]\n",
        "\n",
        "\n",
        "for category in categories:\n",
        "    folder_path=os.path.join(data_path,category)\n",
        "    img_names=os.listdir(folder_path)\n",
        "        \n",
        "    for img_name in img_names:\n",
        "        img_path=os.path.join(folder_path,img_name)\n",
        "        img=cv2.imread(img_path)\n",
        "\n",
        "        try:\n",
        "            gray=cv2.cvtColor(img,cv2.COLOR_BGR2GRAY)           \n",
        "            #Coverting the image into gray scale\n",
        "            resized=cv2.resize(gray,(img_size,img_size))\n",
        "            #resizing the gray scale into 224x224, since we need a fixed common size for all the images in the dataset\n",
        "            data.append(resized)\n",
        "            target.append(label_dict[category])\n",
        "            #appending the image and the label(categorized) into the list (dataset)\n",
        "\n",
        "        except Exception as e:\n",
        "            print('Exception:',e)\n",
        "            #if any exception rasied, the exception will be printed here. And pass to the next image"
      ],
      "execution_count": null,
      "outputs": []
    },
    {
      "cell_type": "code",
      "metadata": {
        "id": "wOan66snaKTC"
      },
      "source": [
        "import numpy as np\n",
        "\n",
        "data=np.array(data)/255.0\n",
        "data=np.reshape(data,(data.shape[0],img_size,img_size,1))\n",
        "target=np.array(target)\n",
        "\n",
        "from keras.utils import np_utils\n",
        "\n",
        "new_target=np_utils.to_categorical(target)"
      ],
      "execution_count": null,
      "outputs": []
    },
    {
      "cell_type": "code",
      "metadata": {
        "id": "BBBRVRcdaN43"
      },
      "source": [
        "np.save('huneightdata',data)\n",
        "np.save('huneightnew_target',new_target)\n",
        "np.save('huneighttarget',target) "
      ],
      "execution_count": null,
      "outputs": []
    },
    {
      "cell_type": "code",
      "metadata": {
        "id": "thrZgLR_gnkW"
      },
      "source": [
        "data=np.load('/content/drive/MyDrive/pnedata.npy')\n",
        "target=np.load('/content/drive/MyDrive/pnetarget.npy')\n",
        "new_target=np.load('/content/drive/MyDrive/pnenew_target.npy')"
      ],
      "execution_count": null,
      "outputs": []
    },
    {
      "cell_type": "code",
      "metadata": {
        "colab": {
          "base_uri": "https://localhost:8080/"
        },
        "id": "NHZuu98uJGGX",
        "outputId": "38b8ed5d-5b26-4db2-be31-6bb9cef0c69d"
      },
      "source": [
        "from keras.models import Sequential,Model\n",
        "from keras.layers import Dense, Dropout, Flatten\n",
        "from keras.layers import Conv2D,Activation,MaxPooling2D\n",
        "from keras.utils import normalize\n",
        "from keras.layers import Concatenate\n",
        "from keras import Input\n",
        "from keras.callbacks import ModelCheckpoint\n",
        "\n",
        "input_shape=data.shape[1:] \n",
        "\n",
        "inp=Input(shape=input_shape)\n",
        "model = Sequential()\n",
        "model.add(Conv2D(256,3,padding='same',activation='relu',input_shape=input_shape,strides=2))\n",
        "model.add(MaxPooling2D(pool_size=(2,2)))\n",
        "\n",
        "model.add(Conv2D(128,(5,5)))\n",
        "model.add(Activation('relu'))\n",
        "model.add(MaxPooling2D(pool_size=(2,2)))\n",
        "\n",
        "model.add(Conv2D(256,(7,7)))\n",
        "model.add(Activation('relu'))\n",
        "model.add(MaxPooling2D(pool_size=(2,2)))\n",
        "\n",
        "model.add(Conv2D(128,(3,3)))\n",
        "model.add(Activation('relu'))\n",
        "model.add(MaxPooling2D(pool_size=(2,2)))\n",
        "\n",
        "model.add(Conv2D(64,(1,1)))\n",
        "model.add(Activation('relu'))\n",
        "model.add(MaxPooling2D(pool_size=(1,1)))\n",
        "\n",
        "\n",
        "model.add(Flatten())\n",
        "model.add(Dropout(0.5))\n",
        "model.add(Dense(256,activation='relu'))\n",
        "model.add(Dropout(0.5))\n",
        "model.add(Dense(128,activation='relu'))\n",
        "model.add(Dropout(0.5))\n",
        "model.add(Dense(1,input_dim=128,activation='sigmoid'))\n",
        "model.compile(loss='binary_crossentropy',optimizer='adam',metrics=['binary_accuracy'])\n",
        "\n",
        "model.summary()"
      ],
      "execution_count": null,
      "outputs": [
        {
          "output_type": "stream",
          "text": [
            "Model: \"sequential\"\n",
            "_________________________________________________________________\n",
            "Layer (type)                 Output Shape              Param #   \n",
            "=================================================================\n",
            "conv2d (Conv2D)              (None, 112, 112, 256)     2560      \n",
            "_________________________________________________________________\n",
            "max_pooling2d (MaxPooling2D) (None, 56, 56, 256)       0         \n",
            "_________________________________________________________________\n",
            "conv2d_1 (Conv2D)            (None, 52, 52, 128)       819328    \n",
            "_________________________________________________________________\n",
            "activation (Activation)      (None, 52, 52, 128)       0         \n",
            "_________________________________________________________________\n",
            "max_pooling2d_1 (MaxPooling2 (None, 26, 26, 128)       0         \n",
            "_________________________________________________________________\n",
            "conv2d_2 (Conv2D)            (None, 20, 20, 256)       1605888   \n",
            "_________________________________________________________________\n",
            "activation_1 (Activation)    (None, 20, 20, 256)       0         \n",
            "_________________________________________________________________\n",
            "max_pooling2d_2 (MaxPooling2 (None, 10, 10, 256)       0         \n",
            "_________________________________________________________________\n",
            "conv2d_3 (Conv2D)            (None, 8, 8, 128)         295040    \n",
            "_________________________________________________________________\n",
            "activation_2 (Activation)    (None, 8, 8, 128)         0         \n",
            "_________________________________________________________________\n",
            "max_pooling2d_3 (MaxPooling2 (None, 4, 4, 128)         0         \n",
            "_________________________________________________________________\n",
            "conv2d_4 (Conv2D)            (None, 4, 4, 64)          8256      \n",
            "_________________________________________________________________\n",
            "activation_3 (Activation)    (None, 4, 4, 64)          0         \n",
            "_________________________________________________________________\n",
            "max_pooling2d_4 (MaxPooling2 (None, 4, 4, 64)          0         \n",
            "_________________________________________________________________\n",
            "flatten (Flatten)            (None, 1024)              0         \n",
            "_________________________________________________________________\n",
            "dropout (Dropout)            (None, 1024)              0         \n",
            "_________________________________________________________________\n",
            "dense (Dense)                (None, 256)               262400    \n",
            "_________________________________________________________________\n",
            "dropout_1 (Dropout)          (None, 256)               0         \n",
            "_________________________________________________________________\n",
            "dense_1 (Dense)              (None, 128)               32896     \n",
            "_________________________________________________________________\n",
            "dropout_2 (Dropout)          (None, 128)               0         \n",
            "_________________________________________________________________\n",
            "dense_2 (Dense)              (None, 1)                 129       \n",
            "=================================================================\n",
            "Total params: 3,026,497\n",
            "Trainable params: 3,026,497\n",
            "Non-trainable params: 0\n",
            "_________________________________________________________________\n"
          ],
          "name": "stdout"
        }
      ]
    },
    {
      "cell_type": "code",
      "metadata": {
        "id": "Zwe9xatCox66"
      },
      "source": [
        "from sklearn.model_selection import train_test_split\n",
        "train_data,test_data,train_target,test_target=train_test_split(data,target,test_size=0.3)"
      ],
      "execution_count": null,
      "outputs": []
    },
    {
      "cell_type": "code",
      "metadata": {
        "colab": {
          "base_uri": "https://localhost:8080/"
        },
        "id": "IwfpGVHiaYlE",
        "outputId": "3915cb09-1b30-446c-9c3d-47cdb525f9df"
      },
      "source": [
        "checkpoint = ModelCheckpoint('model-{epoch:03d}.model',monitor='val_loss',verbose=0,save_best_only=True,mode='auto')\n",
        "history=model.fit(train_data,train_target,epochs=20,callbacks=[checkpoint],validation_split=0.1)"
      ],
      "execution_count": null,
      "outputs": [
        {
          "output_type": "stream",
          "text": [
            "Epoch 1/20\n",
            "103/103 [==============================] - 44s 93ms/step - loss: 0.6150 - binary_accuracy: 0.7371 - val_loss: 0.5140 - val_binary_accuracy: 0.7705\n",
            "INFO:tensorflow:Assets written to: model-001.model/assets\n",
            "Epoch 2/20\n",
            "103/103 [==============================] - 7s 72ms/step - loss: 0.4683 - binary_accuracy: 0.7453 - val_loss: 0.3079 - val_binary_accuracy: 0.8880\n",
            "INFO:tensorflow:Assets written to: model-002.model/assets\n",
            "Epoch 3/20\n",
            "103/103 [==============================] - 7s 71ms/step - loss: 0.3289 - binary_accuracy: 0.8662 - val_loss: 0.1990 - val_binary_accuracy: 0.9098\n",
            "INFO:tensorflow:Assets written to: model-003.model/assets\n",
            "Epoch 4/20\n",
            "103/103 [==============================] - 7s 72ms/step - loss: 0.2510 - binary_accuracy: 0.9054 - val_loss: 0.1856 - val_binary_accuracy: 0.9235\n",
            "INFO:tensorflow:Assets written to: model-004.model/assets\n",
            "Epoch 5/20\n",
            "103/103 [==============================] - 7s 71ms/step - loss: 0.2123 - binary_accuracy: 0.9213 - val_loss: 0.1647 - val_binary_accuracy: 0.9372\n",
            "INFO:tensorflow:Assets written to: model-005.model/assets\n",
            "Epoch 6/20\n",
            "103/103 [==============================] - 7s 71ms/step - loss: 0.1492 - binary_accuracy: 0.9391 - val_loss: 0.0847 - val_binary_accuracy: 0.9754\n",
            "INFO:tensorflow:Assets written to: model-006.model/assets\n",
            "Epoch 7/20\n",
            "103/103 [==============================] - 7s 71ms/step - loss: 0.1124 - binary_accuracy: 0.9619 - val_loss: 0.0873 - val_binary_accuracy: 0.9672\n",
            "Epoch 8/20\n",
            "103/103 [==============================] - 7s 71ms/step - loss: 0.1100 - binary_accuracy: 0.9650 - val_loss: 0.0621 - val_binary_accuracy: 0.9836\n",
            "INFO:tensorflow:Assets written to: model-008.model/assets\n",
            "Epoch 9/20\n",
            "103/103 [==============================] - 7s 71ms/step - loss: 0.0891 - binary_accuracy: 0.9683 - val_loss: 0.0670 - val_binary_accuracy: 0.9699\n",
            "Epoch 10/20\n",
            "103/103 [==============================] - 7s 71ms/step - loss: 0.0823 - binary_accuracy: 0.9701 - val_loss: 0.1059 - val_binary_accuracy: 0.9508\n",
            "Epoch 11/20\n",
            "103/103 [==============================] - 7s 71ms/step - loss: 0.0747 - binary_accuracy: 0.9723 - val_loss: 0.0813 - val_binary_accuracy: 0.9672\n",
            "Epoch 12/20\n",
            "103/103 [==============================] - 7s 71ms/step - loss: 0.0700 - binary_accuracy: 0.9736 - val_loss: 0.0730 - val_binary_accuracy: 0.9754\n",
            "Epoch 13/20\n",
            "103/103 [==============================] - 7s 71ms/step - loss: 0.0542 - binary_accuracy: 0.9802 - val_loss: 0.0433 - val_binary_accuracy: 0.9863\n",
            "INFO:tensorflow:Assets written to: model-013.model/assets\n",
            "Epoch 14/20\n",
            "103/103 [==============================] - 7s 71ms/step - loss: 0.0506 - binary_accuracy: 0.9841 - val_loss: 0.0480 - val_binary_accuracy: 0.9863\n",
            "Epoch 15/20\n",
            "103/103 [==============================] - 7s 71ms/step - loss: 0.0504 - binary_accuracy: 0.9772 - val_loss: 0.0553 - val_binary_accuracy: 0.9863\n",
            "Epoch 16/20\n",
            "103/103 [==============================] - 7s 71ms/step - loss: 0.0442 - binary_accuracy: 0.9869 - val_loss: 0.0481 - val_binary_accuracy: 0.9918\n",
            "Epoch 17/20\n",
            "103/103 [==============================] - 7s 71ms/step - loss: 0.0382 - binary_accuracy: 0.9866 - val_loss: 0.1025 - val_binary_accuracy: 0.9672\n",
            "Epoch 18/20\n",
            "103/103 [==============================] - 7s 71ms/step - loss: 0.0222 - binary_accuracy: 0.9907 - val_loss: 0.0693 - val_binary_accuracy: 0.9809\n",
            "Epoch 19/20\n",
            "103/103 [==============================] - 7s 71ms/step - loss: 0.0314 - binary_accuracy: 0.9887 - val_loss: 0.0748 - val_binary_accuracy: 0.9836\n",
            "Epoch 20/20\n",
            "103/103 [==============================] - 7s 71ms/step - loss: 0.0223 - binary_accuracy: 0.9948 - val_loss: 0.0621 - val_binary_accuracy: 0.9836\n"
          ],
          "name": "stdout"
        }
      ]
    },
    {
      "cell_type": "code",
      "metadata": {
        "colab": {
          "base_uri": "https://localhost:8080/"
        },
        "id": "dD3RWdQYabL2",
        "outputId": "dc84a8cb-89b7-4a4c-e997-6d8974af6145"
      },
      "source": [
        "print(model.evaluate(test_data,test_target))"
      ],
      "execution_count": null,
      "outputs": [
        {
          "output_type": "stream",
          "text": [
            "49/49 [==============================] - 2s 51ms/step - loss: 0.0912 - binary_accuracy: 0.9764\n",
            "[0.09116705507040024, 0.9763578176498413]\n"
          ],
          "name": "stdout"
        }
      ]
    },
    {
      "cell_type": "code",
      "metadata": {
        "id": "y4tnAzZ7_HeR"
      },
      "source": [
        "model.save(\"HunRegNet.hdf5\")"
      ],
      "execution_count": null,
      "outputs": []
    },
    {
      "cell_type": "code",
      "metadata": {
        "id": "8RzaN595_0n9"
      },
      "source": [
        "model.save('hunmy_model.h5')"
      ],
      "execution_count": null,
      "outputs": []
    },
    {
      "cell_type": "code",
      "metadata": {
        "colab": {
          "base_uri": "https://localhost:8080/",
          "height": 279
        },
        "id": "qMHRuuqTUvGJ",
        "outputId": "ceee5a13-619f-4d5e-e94f-d8bf129e0d80"
      },
      "source": [
        "from matplotlib import pyplot as plt\n",
        "\n",
        "plt.plot(history.history['loss'],'r',label='training loss')\n",
        "plt.plot(history.history['val_loss'],label='validation loss')\n",
        "plt.xlabel('# epochs')\n",
        "plt.ylabel('loss')\n",
        "plt.legend()\n",
        "plt.show()"
      ],
      "execution_count": null,
      "outputs": [
        {
          "output_type": "display_data",
          "data": {
            "image/png": "[encoded data removed]",
            "text/plain": [
              "<Figure size 432x288 with 1 Axes>"
            ]
          },
          "metadata": {
            "tags": [],
            "needs_background": "light"
          }
        }
      ]
    },
    {
      "cell_type": "code",
      "metadata": {
        "colab": {
          "base_uri": "https://localhost:8080/",
          "height": 280
        },
        "id": "X9X2ogqqP0ZB",
        "outputId": "96754362-850c-4df4-c761-48e801c20ef7"
      },
      "source": [
        "plt.plot(history.history['binary_accuracy'],'r',label='training accuracy')\n",
        "plt.plot(history.history['val_binary_accuracy'],label='validation accuracy')\n",
        "plt.xlabel('# epochs')\n",
        "plt.ylabel('loss')\n",
        "plt.legend()\n",
        "plt.show()"
      ],
      "execution_count": null,
      "outputs": [
        {
          "output_type": "display_data",
          "data": {
            "image/png": "[encoded data removed]",
            "text/plain": [
              "<Figure size 432x288 with 1 Axes>"
            ]
          },
          "metadata": {
            "tags": [],
            "needs_background": "light"
          }
        }
      ]
    },
    {
      "cell_type": "code",
      "metadata": {
        "colab": {
          "base_uri": "https://localhost:8080/"
        },
        "id": "GXYazSZJgbuQ",
        "outputId": "9ade9630-88ec-4a6b-bd3b-1eef4abba48d"
      },
      "source": [
        "import numpy as np\n",
        "from keras.preprocessing import image\n",
        "\n",
        "images = image.load_img(\"/content/drive/MyDrive/Data/pneumonia/chest_xray/test/PNEUMONIA/person101_bacteria_483.jpeg\", target_size=(224,224))    \n",
        "x = image.img_to_array(images)\n",
        "x = tf.image.rgb_to_grayscale(x)\n",
        "x = np.expand_dims(x, axis=0)\n",
        "x = x/255.0\n",
        "\n",
        "model.predict(x)"
      ],
      "execution_count": null,
      "outputs": [
        {
          "output_type": "execute_result",
          "data": {
            "text/plain": [
              "array([[1.]], dtype=float32)"
            ]
          },
          "metadata": {
            "tags": []
          },
          "execution_count": 10
        }
      ]
    },
    {
      "cell_type": "code",
      "metadata": {
        "colab": {
          "base_uri": "https://localhost:8080/"
        },
        "id": "CDCbDB6OiXwO",
        "outputId": "01eeeff7-a08b-4673-8b86-c4a72c2fc939"
      },
      "source": [
        "import numpy as np\n",
        "from keras.preprocessing import image\n",
        "\n",
        "images = image.load_img(\"/content/drive/MyDrive/Data/pneumonia/chest_xray/test/NORMAL/IM-0011-0001.jpeg\", target_size=(224,224))    \n",
        "x = image.img_to_array(images)\n",
        "x = tf.image.rgb_to_grayscale(x)\n",
        "x = np.expand_dims(x, axis=0)\n",
        "x = x/255.0\n",
        "\n",
        "model.predict(x)"
      ],
      "execution_count": null,
      "outputs": [
        {
          "output_type": "execute_result",
          "data": {
            "text/plain": [
              "array([[0.0692075]], dtype=float32)"
            ]
          },
          "metadata": {
            "tags": []
          },
          "execution_count": 11
        }
      ]
    }
  ]
}