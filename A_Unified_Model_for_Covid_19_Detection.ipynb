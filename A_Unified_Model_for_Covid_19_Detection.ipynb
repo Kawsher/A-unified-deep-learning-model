{
  "nbformat": 4,
  "nbformat_minor": 0,
  "metadata": {
    "accelerator": "GPU",
    "colab": {
      "name": "A_Unified_Model_for_Covid-19_Detection.ipynb",
      "provenance": [],
      "collapsed_sections": []
    },
    "kernelspec": {
      "display_name": "Python 3",
      "name": "python3"
    },
    "language_info": {
      "name": "python"
    }
  },
  "cells": [
    {
      "cell_type": "code",
      "metadata": {
        "id": "d3RT3ThXJeUS"
      },
      "source": [
        "import keras\n",
        "from keras.models import *\n",
        "from keras.layers import *\n",
        "from keras.optimizers import *\n",
        "from keras.preprocessing.image import ImageDataGenerator\n",
        "import tensorflow as tf\n",
        "import numpy as np\n",
        "from keras.models import Sequential\n",
        "from keras.layers import Dense\n",
        "from keras.layers import Dropout\n",
        "from keras.layers import Flatten\n",
        "from keras.constraints import maxnorm\n",
        "from keras.optimizers import SGD\n",
        "from keras.layers.convolutional import Conv2D\n",
        "from keras.layers.convolutional import MaxPooling2D\n",
        "from keras.utils import np_utils"
      ],
      "execution_count": 2,
      "outputs": []
    },
    {
      "cell_type": "code",
      "metadata": {
        "colab": {
          "base_uri": "https://localhost:8080/"
        },
        "id": "kM4vhjUfJ2hu",
        "outputId": "374d5840-76db-4595-f68c-f0de32d55ea7"
      },
      "source": [
        "import cv2,os\n",
        "\n",
        "data_path='/content/drive/MyDrive/Data/pneumonia/chest_xray/train'\n",
        "categories=os.listdir(data_path)\n",
        "labels=[i for i in range(len(categories))]\n",
        "\n",
        "label_dict=dict(zip(categories,labels)) #empty dictionary\n",
        "\n",
        "print(label_dict)\n",
        "print(categories)\n",
        "print(labels)"
      ],
      "execution_count": null,
      "outputs": [
        {
          "output_type": "stream",
          "text": [
            "{'NORMAL': 0, 'PNEUMONIA': 1}\n",
            "['NORMAL', 'PNEUMONIA']\n",
            "[0, 1]\n"
          ],
          "name": "stdout"
        }
      ]
    },
    {
      "cell_type": "code",
      "metadata": {
        "id": "GyeJ3ozuJFeH"
      },
      "source": [
        "img_size=224\n",
        "data=[]\n",
        "target=[]\n",
        "\n",
        "\n",
        "for category in categories:\n",
        "    folder_path=os.path.join(data_path,category)\n",
        "    img_names=os.listdir(folder_path)\n",
        "        \n",
        "    for img_name in img_names:\n",
        "        img_path=os.path.join(folder_path,img_name)\n",
        "        img=cv2.imread(img_path)\n",
        "\n",
        "        try:\n",
        "            gray=cv2.cvtColor(img,cv2.COLOR_BGR2GRAY)           \n",
        "            #Coverting the image into gray scale\n",
        "            resized=cv2.resize(gray,(img_size,img_size))\n",
        "            #resizing the gray scale into 224x224, since we need a fixed common size for all the images in the dataset\n",
        "            data.append(resized)\n",
        "            target.append(label_dict[category])\n",
        "            #appending the image and the label(categorized) into the list (dataset)\n",
        "\n",
        "        except Exception as e:\n",
        "            print('Exception:',e)\n",
        "            #if any exception rasied, the exception will be printed here. And pass to the next image"
      ],
      "execution_count": null,
      "outputs": []
    },
    {
      "cell_type": "code",
      "metadata": {
        "id": "wOan66snaKTC"
      },
      "source": [
        "import numpy as np\n",
        "\n",
        "data=np.array(data)/255.0\n",
        "data=np.reshape(data,(data.shape[0],img_size,img_size,1))\n",
        "target=np.array(target)\n",
        "\n",
        "from keras.utils import np_utils\n",
        "\n",
        "new_target=np_utils.to_categorical(target)"
      ],
      "execution_count": null,
      "outputs": []
    },
    {
      "cell_type": "code",
      "metadata": {
        "id": "BBBRVRcdaN43"
      },
      "source": [
        "np.save('coviddata',data)\n",
        "np.save('covidnew_target',new_target)\n",
        "np.save('covidtarget',target) "
      ],
      "execution_count": null,
      "outputs": []
    },
    {
      "cell_type": "code",
      "metadata": {
        "colab": {
          "base_uri": "https://localhost:8080/"
        },
        "id": "vCHhh5UsnRPL",
        "outputId": "3d42f95f-1910-4045-ff83-271795e75d5f"
      },
      "source": [
        "print(data.shape[1:])"
      ],
      "execution_count": null,
      "outputs": [
        {
          "output_type": "stream",
          "text": [
            "(224, 224, 1)\n"
          ],
          "name": "stdout"
        }
      ]
    },
    {
      "cell_type": "code",
      "metadata": {
        "colab": {
          "base_uri": "https://localhost:8080/"
        },
        "id": "NHZuu98uJGGX",
        "outputId": "c1bc742a-aa30-466a-94e6-94ea1031dfa3"
      },
      "source": [
        "from keras.models import Sequential,Model\n",
        "from keras.layers import Dense, Dropout, Flatten\n",
        "from keras.layers import Conv2D,Activation,MaxPooling2D\n",
        "from keras.utils import normalize\n",
        "from keras.layers import Concatenate\n",
        "from keras import Input\n",
        "from keras.callbacks import ModelCheckpoint\n",
        "\n",
        "input_shape=data.shape[1:] \n",
        "\n",
        "inp=Input(shape=input_shape)\n",
        "model = Sequential()\n",
        "model.add(Conv2D(256,3,padding='same',activation='relu',input_shape=input_shape,strides=2))\n",
        "model.add(MaxPooling2D(pool_size=(2,2)))\n",
        "\n",
        "model.add(Conv2D(128,(5,5)))\n",
        "model.add(Activation('relu'))\n",
        "model.add(MaxPooling2D(pool_size=(2,2)))\n",
        "\n",
        "model.add(Conv2D(256,(7,7)))\n",
        "model.add(Activation('relu'))\n",
        "model.add(MaxPooling2D(pool_size=(2,2)))\n",
        "\n",
        "model.add(Conv2D(128,(3,3)))\n",
        "model.add(Activation('relu'))\n",
        "model.add(MaxPooling2D(pool_size=(2,2)))\n",
        "\n",
        "model.add(Conv2D(64,(1,1)))\n",
        "model.add(Activation('relu'))\n",
        "model.add(MaxPooling2D(pool_size=(1,1)))\n",
        "\n",
        "\n",
        "model.add(Flatten())\n",
        "model.add(Dropout(0.5))\n",
        "model.add(Dense(256,activation='relu'))\n",
        "model.add(Dropout(0.5))\n",
        "model.add(Dense(128,activation='relu'))\n",
        "model.add(Dropout(0.5))\n",
        "model.add(Dense(1,input_dim=128,activation='sigmoid'))\n",
        "model.compile(loss='binary_crossentropy',optimizer='adam',metrics=['binary_accuracy'])\n",
        "\n",
        "model.summary()"
      ],
      "execution_count": null,
      "outputs": [
        {
          "output_type": "stream",
          "text": [
            "Model: \"sequential\"\n",
            "_________________________________________________________________\n",
            "Layer (type)                 Output Shape              Param #   \n",
            "=================================================================\n",
            "conv2d (Conv2D)              (None, 112, 112, 256)     2560      \n",
            "_________________________________________________________________\n",
            "max_pooling2d (MaxPooling2D) (None, 56, 56, 256)       0         \n",
            "_________________________________________________________________\n",
            "conv2d_1 (Conv2D)            (None, 52, 52, 128)       819328    \n",
            "_________________________________________________________________\n",
            "activation (Activation)      (None, 52, 52, 128)       0         \n",
            "_________________________________________________________________\n",
            "max_pooling2d_1 (MaxPooling2 (None, 26, 26, 128)       0         \n",
            "_________________________________________________________________\n",
            "conv2d_2 (Conv2D)            (None, 20, 20, 256)       1605888   \n",
            "_________________________________________________________________\n",
            "activation_1 (Activation)    (None, 20, 20, 256)       0         \n",
            "_________________________________________________________________\n",
            "max_pooling2d_2 (MaxPooling2 (None, 10, 10, 256)       0         \n",
            "_________________________________________________________________\n",
            "conv2d_3 (Conv2D)            (None, 8, 8, 128)         295040    \n",
            "_________________________________________________________________\n",
            "activation_2 (Activation)    (None, 8, 8, 128)         0         \n",
            "_________________________________________________________________\n",
            "max_pooling2d_3 (MaxPooling2 (None, 4, 4, 128)         0         \n",
            "_________________________________________________________________\n",
            "conv2d_4 (Conv2D)            (None, 4, 4, 64)          8256      \n",
            "_________________________________________________________________\n",
            "activation_3 (Activation)    (None, 4, 4, 64)          0         \n",
            "_________________________________________________________________\n",
            "max_pooling2d_4 (MaxPooling2 (None, 4, 4, 64)          0         \n",
            "_________________________________________________________________\n",
            "flatten (Flatten)            (None, 1024)              0         \n",
            "_________________________________________________________________\n",
            "dropout (Dropout)            (None, 1024)              0         \n",
            "_________________________________________________________________\n",
            "dense (Dense)                (None, 256)               262400    \n",
            "_________________________________________________________________\n",
            "dropout_1 (Dropout)          (None, 256)               0         \n",
            "_________________________________________________________________\n",
            "dense_1 (Dense)              (None, 128)               32896     \n",
            "_________________________________________________________________\n",
            "dropout_2 (Dropout)          (None, 128)               0         \n",
            "_________________________________________________________________\n",
            "dense_2 (Dense)              (None, 1)                 129       \n",
            "=================================================================\n",
            "Total params: 3,026,497\n",
            "Trainable params: 3,026,497\n",
            "Non-trainable params: 0\n",
            "_________________________________________________________________\n"
          ],
          "name": "stdout"
        }
      ]
    },
    {
      "cell_type": "code",
      "metadata": {
        "id": "Zwe9xatCox66"
      },
      "source": [
        "from sklearn.model_selection import train_test_split\n",
        "train_data,test_data,train_target,test_target=train_test_split(data,target,test_size=0.3)"
      ],
      "execution_count": null,
      "outputs": []
    },
    {
      "cell_type": "code",
      "metadata": {
        "colab": {
          "base_uri": "https://localhost:8080/"
        },
        "id": "IwfpGVHiaYlE",
        "outputId": "2af15856-d72a-4c46-f4cf-2f3250bee499"
      },
      "source": [
        "checkpoint = ModelCheckpoint('model-{epoch:03d}.model',monitor='val_loss',verbose=0,save_best_only=True,mode='auto')\n",
        "history=model.fit(train_data,train_target,epochs=20,callbacks=[checkpoint],validation_split=0.1)"
      ],
      "execution_count": null,
      "outputs": [
        {
          "output_type": "stream",
          "text": [
            "Epoch 1/20\n",
            "51/51 [==============================] - 45s 220ms/step - loss: 0.7116 - binary_accuracy: 0.5025 - val_loss: 0.6052 - val_binary_accuracy: 0.5363\n",
            "INFO:tensorflow:Assets written to: model-001.model/assets\n",
            "Epoch 2/20\n",
            "51/51 [==============================] - 8s 160ms/step - loss: 0.4901 - binary_accuracy: 0.7367 - val_loss: 0.0713 - val_binary_accuracy: 0.9777\n",
            "INFO:tensorflow:Assets written to: model-002.model/assets\n",
            "Epoch 3/20\n",
            "51/51 [==============================] - 8s 161ms/step - loss: 0.1225 - binary_accuracy: 0.9580 - val_loss: 0.0545 - val_binary_accuracy: 0.9777\n",
            "INFO:tensorflow:Assets written to: model-003.model/assets\n",
            "Epoch 4/20\n",
            "51/51 [==============================] - 8s 159ms/step - loss: 0.1036 - binary_accuracy: 0.9663 - val_loss: 0.0243 - val_binary_accuracy: 0.9944\n",
            "INFO:tensorflow:Assets written to: model-004.model/assets\n",
            "Epoch 5/20\n",
            "51/51 [==============================] - 8s 161ms/step - loss: 0.0967 - binary_accuracy: 0.9661 - val_loss: 0.0456 - val_binary_accuracy: 0.9944\n",
            "Epoch 6/20\n",
            "51/51 [==============================] - 8s 161ms/step - loss: 0.0397 - binary_accuracy: 0.9903 - val_loss: 0.0547 - val_binary_accuracy: 0.9832\n",
            "Epoch 7/20\n",
            "51/51 [==============================] - 8s 161ms/step - loss: 0.0230 - binary_accuracy: 0.9944 - val_loss: 0.0823 - val_binary_accuracy: 0.9832\n",
            "Epoch 8/20\n",
            "51/51 [==============================] - 8s 161ms/step - loss: 0.0460 - binary_accuracy: 0.9850 - val_loss: 0.0448 - val_binary_accuracy: 0.9832\n",
            "Epoch 9/20\n",
            "51/51 [==============================] - 8s 160ms/step - loss: 0.0212 - binary_accuracy: 0.9933 - val_loss: 0.1128 - val_binary_accuracy: 0.9665\n",
            "Epoch 10/20\n",
            "51/51 [==============================] - 8s 162ms/step - loss: 0.0478 - binary_accuracy: 0.9840 - val_loss: 0.0390 - val_binary_accuracy: 0.9888\n",
            "Epoch 11/20\n",
            "51/51 [==============================] - 8s 161ms/step - loss: 0.0102 - binary_accuracy: 0.9970 - val_loss: 0.0584 - val_binary_accuracy: 0.9944\n",
            "Epoch 12/20\n",
            "51/51 [==============================] - 8s 160ms/step - loss: 0.0198 - binary_accuracy: 0.9909 - val_loss: 0.0762 - val_binary_accuracy: 0.9832\n",
            "Epoch 13/20\n",
            "51/51 [==============================] - 8s 161ms/step - loss: 0.0151 - binary_accuracy: 0.9930 - val_loss: 0.0223 - val_binary_accuracy: 0.9888\n",
            "INFO:tensorflow:Assets written to: model-013.model/assets\n",
            "Epoch 14/20\n",
            "51/51 [==============================] - 8s 162ms/step - loss: 0.0039 - binary_accuracy: 0.9990 - val_loss: 0.0684 - val_binary_accuracy: 0.9888\n",
            "Epoch 15/20\n",
            "51/51 [==============================] - 8s 162ms/step - loss: 0.0089 - binary_accuracy: 0.9968 - val_loss: 0.0493 - val_binary_accuracy: 0.9777\n",
            "Epoch 16/20\n",
            "51/51 [==============================] - 8s 162ms/step - loss: 0.0172 - binary_accuracy: 0.9941 - val_loss: 0.0112 - val_binary_accuracy: 1.0000\n",
            "INFO:tensorflow:Assets written to: model-016.model/assets\n",
            "Epoch 17/20\n",
            "51/51 [==============================] - 8s 162ms/step - loss: 0.0394 - binary_accuracy: 0.9866 - val_loss: 0.0342 - val_binary_accuracy: 0.9888\n",
            "Epoch 18/20\n",
            "51/51 [==============================] - 8s 162ms/step - loss: 0.0136 - binary_accuracy: 0.9967 - val_loss: 0.0267 - val_binary_accuracy: 0.9888\n",
            "Epoch 19/20\n",
            "51/51 [==============================] - 8s 161ms/step - loss: 0.0110 - binary_accuracy: 0.9965 - val_loss: 0.0324 - val_binary_accuracy: 0.9888\n",
            "Epoch 20/20\n",
            "51/51 [==============================] - 8s 162ms/step - loss: 0.0168 - binary_accuracy: 0.9903 - val_loss: 0.0229 - val_binary_accuracy: 0.9888\n"
          ],
          "name": "stdout"
        }
      ]
    },
    {
      "cell_type": "code",
      "metadata": {
        "colab": {
          "base_uri": "https://localhost:8080/"
        },
        "id": "dD3RWdQYabL2",
        "outputId": "8e3045a4-5e96-4005-869f-b9d4c6d426b3"
      },
      "source": [
        "print(model.evaluate(test_data,test_target))"
      ],
      "execution_count": null,
      "outputs": [
        {
          "output_type": "stream",
          "text": [
            "24/24 [==============================] - 4s 168ms/step - loss: 0.0541 - binary_accuracy: 0.9883\n",
            "[0.05405038222670555, 0.9882506728172302]\n"
          ],
          "name": "stdout"
        }
      ]
    },
    {
      "cell_type": "code",
      "metadata": {
        "id": "8RzaN595_0n9"
      },
      "source": [
        "model.save('Covid_model_2.h5')"
      ],
      "execution_count": null,
      "outputs": []
    },
    {
      "cell_type": "code",
      "metadata": {
        "colab": {
          "base_uri": "https://localhost:8080/",
          "height": 279
        },
        "id": "qMHRuuqTUvGJ",
        "outputId": "8e0b6944-191b-4d38-c96e-3c2987138e24"
      },
      "source": [
        "from matplotlib import pyplot as plt\n",
        "\n",
        "plt.plot(history.history['loss'],'r',label='training loss')\n",
        "plt.plot(history.history['val_loss'],label='validation loss')\n",
        "plt.xlabel('# epochs')\n",
        "plt.ylabel('loss')\n",
        "plt.legend()\n",
        "plt.show()"
      ],
      "execution_count": null,
      "outputs": [
        {
          "output_type": "display_data",
          "data": {
            "image/png": "[encoded data removed]",
            "text/plain": [
              "<Figure size 432x288 with 1 Axes>"
            ]
          },
          "metadata": {
            "tags": [],
            "needs_background": "light"
          }
        }
      ]
    },
    {
      "cell_type": "code",
      "metadata": {
        "colab": {
          "base_uri": "https://localhost:8080/",
          "height": 279
        },
        "id": "X9X2ogqqP0ZB",
        "outputId": "62ac46b1-ab80-4779-e48e-5fb67cf705cc"
      },
      "source": [
        "plt.plot(history.history['binary_accuracy'],'r',label='training accuracy')\n",
        "plt.plot(history.history['val_binary_accuracy'],label='validation accuracy')\n",
        "plt.xlabel('# epochs')\n",
        "plt.ylabel('loss')\n",
        "plt.legend()\n",
        "plt.show()"
      ],
      "execution_count": null,
      "outputs": [
        {
          "output_type": "display_data",
          "data": {
            "image/png": "[encoded data removed]",
            "text/plain": [
              "<Figure size 432x288 with 1 Axes>"
            ]
          },
          "metadata": {
            "tags": [],
            "needs_background": "light"
          }
        }
      ]
    },
    {
      "cell_type": "code",
      "metadata": {
        "id": "gc9PnraKEBF-"
      },
      "source": [
        "from tensorflow import keras\n",
        "model = keras.models.load_model('/content/drive/MyDrive/Covid_model_2.h5')"
      ],
      "execution_count": 6,
      "outputs": []
    },
    {
      "cell_type": "code",
      "metadata": {
        "colab": {
          "base_uri": "https://localhost:8080/"
        },
        "id": "GXYazSZJgbuQ",
        "outputId": "66a367e4-0633-485f-93b7-0ac4216dd651"
      },
      "source": [
        "import numpy as np\n",
        "from keras.preprocessing import image\n",
        "\n",
        "images = image.load_img(\"/content/drive/MyDrive/Covid_Data/COVID/COVID (1053).png\", target_size=(224,224))    \n",
        "x = image.img_to_array(images)\n",
        "x = tf.image.rgb_to_grayscale(x)\n",
        "x = np.expand_dims(x, axis=0)\n",
        "x = x/255.0\n",
        "\n",
        "model.predict(x)"
      ],
      "execution_count": 7,
      "outputs": [
        {
          "output_type": "execute_result",
          "data": {
            "text/plain": [
              "array([[0.99996126]], dtype=float32)"
            ]
          },
          "metadata": {
            "tags": []
          },
          "execution_count": 7
        }
      ]
    },
    {
      "cell_type": "code",
      "metadata": {
        "colab": {
          "base_uri": "https://localhost:8080/"
        },
        "id": "CDCbDB6OiXwO",
        "outputId": "ae331c73-74cf-457a-fc58-d38a8a6270f4"
      },
      "source": [
        "import numpy as np\n",
        "from keras.preprocessing import image\n",
        "\n",
        "images = image.load_img(\"/content/drive/MyDrive/Data/pneumonia/chest_xray/test/NORMAL/IM-0011-0001.jpeg\", target_size=(224,224))    \n",
        "x = image.img_to_array(images)\n",
        "x = tf.image.rgb_to_grayscale(x)\n",
        "x = np.expand_dims(x, axis=0)\n",
        "x = x/255.0\n",
        "\n",
        "model.predict(x)"
      ],
      "execution_count": 8,
      "outputs": [
        {
          "output_type": "execute_result",
          "data": {
            "text/plain": [
              "array([[5.861462e-05]], dtype=float32)"
            ]
          },
          "metadata": {
            "tags": []
          },
          "execution_count": 8
        }
      ]
    }
  ]
}